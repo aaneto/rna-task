{
 "cells": [
  {
   "cell_type": "markdown",
   "metadata": {},
   "source": [
    "# Seleciona autores para dataset\n",
    "\n",
    "- Divide as obras dos autores em \"chunks\" de 600 notas.\n",
    "- Autores que totalizam mais de 200 chunks foram filtrados.\n",
    "- Destes, 5 foram selecionados por relevância pelo autor.\n",
    "- O método de validação é 10-fold cross validation."
   ]
  },
  {
   "cell_type": "code",
   "execution_count": 1,
   "metadata": {},
   "outputs": [],
   "source": [
    "# Get all authors\n",
    "import mido\n",
    "import numpy as np\n",
    "from pathlib import Path\n",
    "\n",
    "NOTE_MAX = 119.0\n",
    "\n",
    "def create_chunks(lst, n):\n",
    "    \"\"\"Yield successive n-sized chunks from lst.\"\"\"\n",
    "    ch = []\n",
    "    for i in range(0, len(lst), n):\n",
    "        chunk_slice = lst[i:i + n]\n",
    "        if len(chunk_slice) == n:\n",
    "            ch.append(np.array(chunk_slice))\n",
    "    return ch\n",
    "\n",
    "def track_to_chunks(track, chunk_size=600):\n",
    "    notes = [\n",
    "        -msg.note / NOTE_MAX\n",
    "        for msg in track\n",
    "        if msg.type == \"note_on\"\n",
    "    ]\n",
    "    \n",
    "    return create_chunks(notes, chunk_size)\n",
    "    \n",
    "def read_midi_chunks(file_path):\n",
    "    mid = mido.MidiFile(file_path)\n",
    "    \n",
    "    return [\n",
    "        chunk\n",
    "        for track in mid.tracks\n",
    "        for chunk in track_to_chunks(track)\n",
    "    ]\n",
    "\n",
    "# Selected authors with more than 200 tracks\n",
    "author_list = [\n",
    "    \"Chopin Frédéric\",\n",
    "    \"Albéniz Isaac\",\n",
    "    \"Beethoven Ludwig van\",\n",
    "    \"Bach Carl Philipp Emanuel\",\n",
    "    \"Haydn Joseph\"\n",
    "    \n",
    "]\n",
    "\n",
    "author_chunks = dict()\n",
    "\n",
    "for file_path in Path(\"./full-dataset\").glob(\"*.mid\"):\n",
    "    name, surname, *_ = file_path.stem.split(\",\")\n",
    "    full_name = name + surname\n",
    "    \n",
    "    if full_name in author_list:\n",
    "        chunks = read_midi_chunks(file_path)\n",
    "        if full_name in author_chunks:\n",
    "            author_chunks[full_name].extend(chunks)\n",
    "        else:\n",
    "            author_chunks[full_name] = chunks\n",
    "\n",
    "for author in author_chunks:\n",
    "    author_chunks[author] = np.array(author_chunks[author])"
   ]
  },
  {
   "cell_type": "markdown",
   "metadata": {},
   "source": [
    "# Cria funções de plot"
   ]
  },
  {
   "cell_type": "code",
   "execution_count": 2,
   "metadata": {},
   "outputs": [],
   "source": [
    "from matplotlib import pyplot as plt\n",
    "\n",
    "def plot_loss(history):\n",
    "    val_loss = history.history[\"val_loss\"]\n",
    "    loss = history.history[\"loss\"]\n",
    "\n",
    "    plt.title(\"Perda e Perda de Validação\")\n",
    "    plt.plot(loss, \"b\", val_loss, \"r\")\n",
    "\n",
    "def plot_accuracy(history):\n",
    "    val_acc = history.history[\"val_accuracy\"]\n",
    "    acc = history.history[\"accuracy\"]\n",
    "    \n",
    "    plt.title(\"Acurácia e Acurácia de Validação\")\n",
    "    plt.plot(acc, \"b\", val_acc, \"g\")\n",
    "    "
   ]
  },
  {
   "cell_type": "markdown",
   "metadata": {},
   "source": [
    "# Cria Modelo\n",
    "\n",
    "O modelo consiste em uma rede CNN com ativações *relu* nas camadas intermediárias e *softmax* na camada de saída, usando *Adam* como algorítmo de treinamento, função de loss *categorial crossentropy* e métrica de acurácia."
   ]
  },
  {
   "cell_type": "code",
   "execution_count": 15,
   "metadata": {},
   "outputs": [
    {
     "name": "stdout",
     "output_type": "stream",
     "text": [
      "Running fold no 0\n",
      "Model: \"sequential_8\"\n",
      "_________________________________________________________________\n",
      "Layer (type)                 Output Shape              Param #   \n",
      "=================================================================\n",
      "reshape_12 (Reshape)         (None, 600, 1)            0         \n",
      "_________________________________________________________________\n",
      "conv1d_22 (Conv1D)           (None, 593, 8)            72        \n",
      "_________________________________________________________________\n",
      "average_pooling1d (AveragePo (None, 295, 8)            0         \n",
      "_________________________________________________________________\n",
      "conv1d_23 (Conv1D)           (None, 288, 8)            520       \n",
      "_________________________________________________________________\n",
      "average_pooling1d_1 (Average (None, 143, 8)            0         \n",
      "_________________________________________________________________\n",
      "conv1d_24 (Conv1D)           (None, 128, 16)           2064      \n",
      "_________________________________________________________________\n",
      "average_pooling1d_2 (Average (None, 63, 16)            0         \n",
      "_________________________________________________________________\n",
      "lstm_8 (LSTM)                (None, 6)                 552       \n",
      "_________________________________________________________________\n",
      "dense_8 (Dense)              (None, 5)                 35        \n",
      "=================================================================\n",
      "Total params: 3,243\n",
      "Trainable params: 3,243\n",
      "Non-trainable params: 0\n",
      "_________________________________________________________________\n",
      "Epoch 1/50\n",
      "5/5 [==============================] - 3s 303ms/step - loss: 1.5930 - accuracy: 0.3875 - val_loss: 1.5839 - val_accuracy: 0.3820\n",
      "Epoch 2/50\n",
      "5/5 [==============================] - 1s 168ms/step - loss: 1.5820 - accuracy: 0.3828 - val_loss: 1.5696 - val_accuracy: 0.3820\n",
      "Epoch 3/50\n",
      "5/5 [==============================] - 1s 175ms/step - loss: 1.5592 - accuracy: 0.4056 - val_loss: 1.5536 - val_accuracy: 0.3820\n",
      "Epoch 4/50\n",
      "5/5 [==============================] - 1s 195ms/step - loss: 1.5491 - accuracy: 0.3789 - val_loss: 1.5375 - val_accuracy: 0.3820\n",
      "Epoch 5/50\n",
      "5/5 [==============================] - 1s 194ms/step - loss: 1.5327 - accuracy: 0.3867 - val_loss: 1.5211 - val_accuracy: 0.3820\n",
      "Epoch 6/50\n",
      "5/5 [==============================] - 1s 172ms/step - loss: 1.5141 - accuracy: 0.3865 - val_loss: 1.5048 - val_accuracy: 0.3820\n",
      "Epoch 7/50\n",
      "5/5 [==============================] - 1s 169ms/step - loss: 1.4890 - accuracy: 0.3967 - val_loss: 1.4891 - val_accuracy: 0.3820\n",
      "Epoch 8/50\n",
      "5/5 [==============================] - 1s 170ms/step - loss: 1.4835 - accuracy: 0.3946 - val_loss: 1.4756 - val_accuracy: 0.3820\n",
      "Epoch 9/50\n",
      "5/5 [==============================] - 1s 178ms/step - loss: 1.4622 - accuracy: 0.3955 - val_loss: 1.4644 - val_accuracy: 0.3820\n",
      "Epoch 10/50\n",
      "5/5 [==============================] - 1s 185ms/step - loss: 1.4539 - accuracy: 0.3884 - val_loss: 1.4567 - val_accuracy: 0.3820\n",
      "Epoch 11/50\n",
      "5/5 [==============================] - 1s 189ms/step - loss: 1.4528 - accuracy: 0.3766 - val_loss: 1.4515 - val_accuracy: 0.3820\n",
      "Epoch 12/50\n",
      "5/5 [==============================] - 1s 180ms/step - loss: 1.4517 - accuracy: 0.3931 - val_loss: 1.4480 - val_accuracy: 0.3820\n",
      "Epoch 13/50\n",
      "5/5 [==============================] - 1s 182ms/step - loss: 1.4357 - accuracy: 0.3905 - val_loss: 1.4455 - val_accuracy: 0.3820\n",
      "Epoch 14/50\n",
      "5/5 [==============================] - 1s 167ms/step - loss: 1.4388 - accuracy: 0.3903 - val_loss: 1.4436 - val_accuracy: 0.3820\n",
      "Epoch 15/50\n",
      "5/5 [==============================] - 1s 172ms/step - loss: 1.4272 - accuracy: 0.3858 - val_loss: 1.4419 - val_accuracy: 0.3820\n",
      "Epoch 16/50\n",
      "5/5 [==============================] - 1s 177ms/step - loss: 1.4302 - accuracy: 0.3752 - val_loss: 1.4404 - val_accuracy: 0.3820\n",
      "Epoch 17/50\n",
      "5/5 [==============================] - 1s 184ms/step - loss: 1.4482 - accuracy: 0.3777 - val_loss: 1.4390 - val_accuracy: 0.3820\n",
      "Epoch 18/50\n",
      "5/5 [==============================] - 1s 186ms/step - loss: 1.4433 - accuracy: 0.3648 - val_loss: 1.4377 - val_accuracy: 0.3820\n",
      "Epoch 19/50\n",
      "5/5 [==============================] - 1s 172ms/step - loss: 1.4452 - accuracy: 0.3727 - val_loss: 1.4365 - val_accuracy: 0.3820\n",
      "Epoch 20/50\n",
      "5/5 [==============================] - 1s 172ms/step - loss: 1.4272 - accuracy: 0.3901 - val_loss: 1.4353 - val_accuracy: 0.3820\n",
      "Epoch 21/50\n",
      "5/5 [==============================] - 1s 172ms/step - loss: 1.4426 - accuracy: 0.3596 - val_loss: 1.4342 - val_accuracy: 0.3820\n",
      "Epoch 22/50\n",
      "5/5 [==============================] - 1s 172ms/step - loss: 1.4407 - accuracy: 0.3732 - val_loss: 1.4333 - val_accuracy: 0.3820\n",
      "Epoch 23/50\n",
      "5/5 [==============================] - 1s 168ms/step - loss: 1.4449 - accuracy: 0.3825 - val_loss: 1.4324 - val_accuracy: 0.3820\n",
      "Epoch 24/50\n",
      "5/5 [==============================] - 1s 182ms/step - loss: 1.4212 - accuracy: 0.3877 - val_loss: 1.4315 - val_accuracy: 0.3820\n",
      "Epoch 25/50\n",
      "5/5 [==============================] - 1s 175ms/step - loss: 1.4358 - accuracy: 0.3778 - val_loss: 1.4307 - val_accuracy: 0.3820\n",
      "Epoch 26/50\n",
      "5/5 [==============================] - 1s 170ms/step - loss: 1.4268 - accuracy: 0.3934 - val_loss: 1.4300 - val_accuracy: 0.3820\n",
      "Epoch 27/50\n",
      "5/5 [==============================] - 1s 166ms/step - loss: 1.4408 - accuracy: 0.3777 - val_loss: 1.4293 - val_accuracy: 0.3820\n",
      "Epoch 28/50\n",
      "5/5 [==============================] - 1s 165ms/step - loss: 1.4180 - accuracy: 0.3884 - val_loss: 1.4288 - val_accuracy: 0.3820\n",
      "Epoch 29/50\n",
      "5/5 [==============================] - 1s 173ms/step - loss: 1.4222 - accuracy: 0.3848 - val_loss: 1.4283 - val_accuracy: 0.3820\n",
      "Epoch 30/50\n",
      "5/5 [==============================] - 1s 202ms/step - loss: 1.4124 - accuracy: 0.4046 - val_loss: 1.4279 - val_accuracy: 0.3820\n",
      "Epoch 31/50\n",
      "5/5 [==============================] - 1s 196ms/step - loss: 1.4184 - accuracy: 0.3973 - val_loss: 1.4275 - val_accuracy: 0.3820\n",
      "Epoch 32/50\n",
      "5/5 [==============================] - 1s 220ms/step - loss: 1.4235 - accuracy: 0.3756 - val_loss: 1.4272 - val_accuracy: 0.3820\n",
      "Epoch 33/50\n",
      "5/5 [==============================] - 1s 186ms/step - loss: 1.4237 - accuracy: 0.3864 - val_loss: 1.4269 - val_accuracy: 0.3820\n",
      "Epoch 34/50\n",
      "5/5 [==============================] - 1s 173ms/step - loss: 1.4172 - accuracy: 0.3848 - val_loss: 1.4267 - val_accuracy: 0.3820\n",
      "Epoch 35/50\n",
      "5/5 [==============================] - 1s 191ms/step - loss: 1.4277 - accuracy: 0.3799 - val_loss: 1.4265 - val_accuracy: 0.3820\n",
      "Epoch 36/50\n",
      "5/5 [==============================] - 1s 210ms/step - loss: 1.4256 - accuracy: 0.3755 - val_loss: 1.4264 - val_accuracy: 0.3820\n",
      "Epoch 37/50\n",
      "5/5 [==============================] - 1s 190ms/step - loss: 1.4317 - accuracy: 0.3931 - val_loss: 1.4266 - val_accuracy: 0.3820\n",
      "Epoch 38/50\n",
      "5/5 [==============================] - 1s 186ms/step - loss: 1.4116 - accuracy: 0.3977 - val_loss: 1.4263 - val_accuracy: 0.3820\n",
      "Epoch 39/50\n",
      "5/5 [==============================] - 1s 167ms/step - loss: 1.4130 - accuracy: 0.3834 - val_loss: 1.4261 - val_accuracy: 0.3820\n",
      "Epoch 40/50\n",
      "5/5 [==============================] - 1s 162ms/step - loss: 1.4260 - accuracy: 0.3757 - val_loss: 1.4260 - val_accuracy: 0.3820\n",
      "Epoch 41/50\n",
      "5/5 [==============================] - 1s 166ms/step - loss: 1.4100 - accuracy: 0.3824 - val_loss: 1.4259 - val_accuracy: 0.3820\n",
      "Epoch 42/50\n",
      "5/5 [==============================] - 1s 165ms/step - loss: 1.4100 - accuracy: 0.3787 - val_loss: 1.4259 - val_accuracy: 0.3820\n",
      "Epoch 43/50\n",
      "5/5 [==============================] - 1s 166ms/step - loss: 1.4265 - accuracy: 0.3598 - val_loss: 1.4258 - val_accuracy: 0.3820\n",
      "Epoch 44/50\n",
      "5/5 [==============================] - 1s 212ms/step - loss: 1.4048 - accuracy: 0.4018 - val_loss: 1.4259 - val_accuracy: 0.3820\n",
      "Epoch 45/50\n",
      "5/5 [==============================] - 1s 192ms/step - loss: 1.4293 - accuracy: 0.3766 - val_loss: 1.4259 - val_accuracy: 0.3820\n",
      "Epoch 46/50\n",
      "5/5 [==============================] - 1s 278ms/step - loss: 1.4146 - accuracy: 0.3943 - val_loss: 1.4258 - val_accuracy: 0.3820\n",
      "Epoch 47/50\n",
      "5/5 [==============================] - 1s 233ms/step - loss: 1.4248 - accuracy: 0.3757 - val_loss: 1.4257 - val_accuracy: 0.3820\n",
      "Epoch 48/50\n"
     ]
    },
    {
     "name": "stdout",
     "output_type": "stream",
     "text": [
      "5/5 [==============================] - 1s 196ms/step - loss: 1.4389 - accuracy: 0.3718 - val_loss: 1.4256 - val_accuracy: 0.3820\n",
      "Epoch 49/50\n",
      "5/5 [==============================] - 1s 167ms/step - loss: 1.4172 - accuracy: 0.3863 - val_loss: 1.4257 - val_accuracy: 0.3820\n",
      "Epoch 50/50\n",
      "5/5 [==============================] - 1s 172ms/step - loss: 1.4258 - accuracy: 0.3783 - val_loss: 1.4256 - val_accuracy: 0.3820\n"
     ]
    },
    {
     "data": {
      "image/png": "[encoded data removed]",
      "text/plain": [
       "<Figure size 432x288 with 1 Axes>"
      ]
     },
     "metadata": {
      "needs_background": "light"
     },
     "output_type": "display_data"
    }
   ],
   "source": [
    "from matplotlib import pyplot as plt\n",
    "import numpy as np\n",
    "from sklearn.utils import shuffle\n",
    "from sklearn.metrics import confusion_matrix\n",
    "from wandb.keras import WandbCallback\n",
    "\n",
    "from tensorflow import keras\n",
    "from tensorflow.keras.models import Sequential\n",
    "from tensorflow.keras.layers import LSTM, Conv1D, AveragePooling1D, MaxPooling1D, Dense, Flatten, ZeroPadding1D, Reshape, GlobalAveragePooling1D, Dropout\n",
    "\n",
    "num_folds = 10\n",
    "author_y = {\n",
    "    \"Chopin Frédéric\": np.array([1.0, 0.0, 0.0, 0.0, 0.0]),\n",
    "    \"Albéniz Isaac\": np.array([0.0, 1.0, 0.0, 0.0, 0.0]),\n",
    "    \"Beethoven Ludwig van\": np.array([0.0, 0.0, 1.0, 0.0, 0.0]),\n",
    "    \"Bach Carl Philipp Emanuel\": np.array([0.0, 0.0, 0.0, 1.0, 0.0]),\n",
    "    \"Haydn Joseph\": np.array([0.0, 0.0, 0.0, 0.0, 1.0])\n",
    "}\n",
    "\n",
    "def get_chunks_for_fold(num_fold):\n",
    "    # 0 to 0.9\n",
    "    percent = num_fold / num_folds\n",
    "    # 0.1 to 1.0\n",
    "    next_percent = (num_fold + 1) / num_folds\n",
    "    \n",
    "    x_train = []\n",
    "    y_train = []\n",
    "    x_validation = []\n",
    "    y_validation = []\n",
    "\n",
    "    for author in author_chunks:\n",
    "        chunks = author_chunks[author]\n",
    "        f_idx = int(len(chunks) * percent)\n",
    "        s_idx = int(len(chunks) * next_percent)\n",
    "        \n",
    "        x_train.extend(chunks[f_idx:s_idx])\n",
    "        y_train.extend([author_y[author] for _ in range(len(chunks[f_idx:s_idx]))])\n",
    "        \n",
    "        x_validation.extend(chunks[s_idx:])\n",
    "        y_validation.extend([author_y[author] for _ in range(len(chunks[s_idx:]))])\n",
    "        x_validation.extend(chunks[:f_idx])\n",
    "        y_validation.extend([author_y[author] for _ in range(len(chunks[:f_idx]))])\n",
    "    \n",
    "    return np.array(x_train), np.array(y_train), np.array(x_validation), np.array(y_validation)\n",
    "            \n",
    "\n",
    "for i in range(1):\n",
    "    print(f\"Running fold no {i}\")\n",
    "    x_train, y_train, x_validation, y_validation = get_chunks_for_fold(i)\n",
    "    \n",
    "    model = Sequential([\n",
    "        Reshape((600, 1), input_shape=(600, )),\n",
    "        Conv1D(8, 8, activation=\"relu\", input_shape=((600, 1))),\n",
    "        AveragePooling1D(pool_size=4, strides=2),\n",
    "        Conv1D(8, 8, activation=\"relu\"),\n",
    "        AveragePooling1D(pool_size=4, strides=2),\n",
    "        Conv1D(16, 16, activation=\"relu\"),\n",
    "        AveragePooling1D(pool_size=4, strides=2),\n",
    "        LSTM(6),\n",
    "        Dense(5, activation=\"softmax\")\n",
    "    ])\n",
    "    model.summary()\n",
    "    opt = keras.optimizers.Adam(learning_rate=0.0004)\n",
    "    \n",
    "    model.compile(\n",
    "        optimizer=opt,\n",
    "        loss=\"categorical_crossentropy\",\n",
    "        metrics=[\"accuracy\"]\n",
    "    )\n",
    "    \n",
    "    \n",
    "    history = model.fit(\n",
    "        x_train,\n",
    "        y_train,\n",
    "        validation_data=(x_validation, y_validation),\n",
    "        epochs=50,\n",
    "        batch_size=128\n",
    "    )\n",
    "    \n",
    "#     plot_loss(history)\n",
    "    plot_accuracy(history)\n"
   ]
  },
  {
   "cell_type": "markdown",
   "metadata": {},
   "source": [
    "# Organize Dataset"
   ]
  },
  {
   "cell_type": "code",
   "execution_count": 32,
   "metadata": {},
   "outputs": [
    {
     "ename": "TypeError",
     "evalue": "unsupported operand type(s) for -: 'NoneType' and 'float'",
     "output_type": "error",
     "traceback": [
      "\u001b[0;31m---------------------------------------------------------------------------\u001b[0m",
      "\u001b[0;31mTypeError\u001b[0m                                 Traceback (most recent call last)",
      "\u001b[0;32m<ipython-input-32-51fd56d87fb3>\u001b[0m in \u001b[0;36m<module>\u001b[0;34m\u001b[0m\n\u001b[1;32m     49\u001b[0m     \u001b[0;32mreturn\u001b[0m \u001b[0mchunks\u001b[0m\u001b[0;34m\u001b[0m\u001b[0;34m\u001b[0m\u001b[0m\n\u001b[1;32m     50\u001b[0m \u001b[0;34m\u001b[0m\u001b[0m\n\u001b[0;32m---> 51\u001b[0;31m \u001b[0malbeniz_tracks\u001b[0m \u001b[0;34m=\u001b[0m \u001b[0mget_author_note_list\u001b[0m\u001b[0;34m(\u001b[0m\u001b[0;34m\"Albéniz Isaac\"\u001b[0m\u001b[0;34m)\u001b[0m\u001b[0;34m\u001b[0m\u001b[0;34m\u001b[0m\u001b[0m\n\u001b[0m\u001b[1;32m     52\u001b[0m \u001b[0magnew_tracks\u001b[0m \u001b[0;34m=\u001b[0m \u001b[0mget_author_note_list\u001b[0m\u001b[0;34m(\u001b[0m\u001b[0;34m\"Agnew Roy\"\u001b[0m\u001b[0;34m)\u001b[0m\u001b[0;34m\u001b[0m\u001b[0;34m\u001b[0m\u001b[0m\n\u001b[1;32m     53\u001b[0m \u001b[0mbehr_tracks\u001b[0m \u001b[0;34m=\u001b[0m \u001b[0mget_author_note_list\u001b[0m\u001b[0;34m(\u001b[0m\u001b[0;34m\"Behr Franz\"\u001b[0m\u001b[0;34m)\u001b[0m\u001b[0;34m\u001b[0m\u001b[0;34m\u001b[0m\u001b[0m\n",
      "\u001b[0;32m<ipython-input-32-51fd56d87fb3>\u001b[0m in \u001b[0;36mget_author_note_list\u001b[0;34m(author, min_note_count)\u001b[0m\n\u001b[1;32m     28\u001b[0m \u001b[0;32mdef\u001b[0m \u001b[0mget_author_note_list\u001b[0m\u001b[0;34m(\u001b[0m\u001b[0mauthor\u001b[0m\u001b[0;34m,\u001b[0m \u001b[0mmin_note_count\u001b[0m\u001b[0;34m=\u001b[0m\u001b[0;36m600\u001b[0m\u001b[0;34m)\u001b[0m\u001b[0;34m:\u001b[0m\u001b[0;34m\u001b[0m\u001b[0;34m\u001b[0m\u001b[0m\n\u001b[1;32m     29\u001b[0m     \u001b[0mtracks\u001b[0m \u001b[0;34m=\u001b[0m \u001b[0mget_author_tracks\u001b[0m\u001b[0;34m(\u001b[0m\u001b[0mauthor\u001b[0m\u001b[0;34m)\u001b[0m\u001b[0;34m\u001b[0m\u001b[0;34m\u001b[0m\u001b[0m\n\u001b[0;32m---> 30\u001b[0;31m     \u001b[0mnote_list\u001b[0m \u001b[0;34m=\u001b[0m \u001b[0;34m[\u001b[0m\u001b[0mtrack_to_notes\u001b[0m\u001b[0;34m(\u001b[0m\u001b[0mt\u001b[0m\u001b[0;34m)\u001b[0m \u001b[0;32mfor\u001b[0m \u001b[0mt\u001b[0m \u001b[0;32min\u001b[0m \u001b[0mtracks\u001b[0m\u001b[0;34m]\u001b[0m\u001b[0;34m\u001b[0m\u001b[0;34m\u001b[0m\u001b[0m\n\u001b[0m\u001b[1;32m     31\u001b[0m     \u001b[0;32mreturn\u001b[0m \u001b[0;34m[\u001b[0m\u001b[0mn\u001b[0m \u001b[0;32mfor\u001b[0m \u001b[0mn\u001b[0m \u001b[0;32min\u001b[0m \u001b[0mnote_list\u001b[0m \u001b[0;32mif\u001b[0m \u001b[0mlen\u001b[0m\u001b[0;34m(\u001b[0m\u001b[0mn\u001b[0m\u001b[0;34m)\u001b[0m \u001b[0;34m>=\u001b[0m \u001b[0mmin_note_count\u001b[0m\u001b[0;34m]\u001b[0m\u001b[0;34m\u001b[0m\u001b[0;34m\u001b[0m\u001b[0m\n\u001b[1;32m     32\u001b[0m \u001b[0;34m\u001b[0m\u001b[0m\n",
      "\u001b[0;32m<ipython-input-32-51fd56d87fb3>\u001b[0m in \u001b[0;36m<listcomp>\u001b[0;34m(.0)\u001b[0m\n\u001b[1;32m     28\u001b[0m \u001b[0;32mdef\u001b[0m \u001b[0mget_author_note_list\u001b[0m\u001b[0;34m(\u001b[0m\u001b[0mauthor\u001b[0m\u001b[0;34m,\u001b[0m \u001b[0mmin_note_count\u001b[0m\u001b[0;34m=\u001b[0m\u001b[0;36m600\u001b[0m\u001b[0;34m)\u001b[0m\u001b[0;34m:\u001b[0m\u001b[0;34m\u001b[0m\u001b[0;34m\u001b[0m\u001b[0m\n\u001b[1;32m     29\u001b[0m     \u001b[0mtracks\u001b[0m \u001b[0;34m=\u001b[0m \u001b[0mget_author_tracks\u001b[0m\u001b[0;34m(\u001b[0m\u001b[0mauthor\u001b[0m\u001b[0;34m)\u001b[0m\u001b[0;34m\u001b[0m\u001b[0;34m\u001b[0m\u001b[0m\n\u001b[0;32m---> 30\u001b[0;31m     \u001b[0mnote_list\u001b[0m \u001b[0;34m=\u001b[0m \u001b[0;34m[\u001b[0m\u001b[0mtrack_to_notes\u001b[0m\u001b[0;34m(\u001b[0m\u001b[0mt\u001b[0m\u001b[0;34m)\u001b[0m \u001b[0;32mfor\u001b[0m \u001b[0mt\u001b[0m \u001b[0;32min\u001b[0m \u001b[0mtracks\u001b[0m\u001b[0;34m]\u001b[0m\u001b[0;34m\u001b[0m\u001b[0;34m\u001b[0m\u001b[0m\n\u001b[0m\u001b[1;32m     31\u001b[0m     \u001b[0;32mreturn\u001b[0m \u001b[0;34m[\u001b[0m\u001b[0mn\u001b[0m \u001b[0;32mfor\u001b[0m \u001b[0mn\u001b[0m \u001b[0;32min\u001b[0m \u001b[0mnote_list\u001b[0m \u001b[0;32mif\u001b[0m \u001b[0mlen\u001b[0m\u001b[0;34m(\u001b[0m\u001b[0mn\u001b[0m\u001b[0;34m)\u001b[0m \u001b[0;34m>=\u001b[0m \u001b[0mmin_note_count\u001b[0m\u001b[0;34m]\u001b[0m\u001b[0;34m\u001b[0m\u001b[0;34m\u001b[0m\u001b[0m\n\u001b[1;32m     32\u001b[0m \u001b[0;34m\u001b[0m\u001b[0m\n",
      "\u001b[0;32m<ipython-input-32-51fd56d87fb3>\u001b[0m in \u001b[0;36mtrack_to_notes\u001b[0;34m(track)\u001b[0m\n\u001b[1;32m     15\u001b[0m \u001b[0;34m\u001b[0m\u001b[0m\n\u001b[1;32m     16\u001b[0m     \u001b[0;32mfor\u001b[0m \u001b[0mm\u001b[0m \u001b[0;32min\u001b[0m \u001b[0mnotes\u001b[0m\u001b[0;34m:\u001b[0m\u001b[0;34m\u001b[0m\u001b[0;34m\u001b[0m\u001b[0m\n\u001b[0;32m---> 17\u001b[0;31m         \u001b[0mout\u001b[0m\u001b[0;34m.\u001b[0m\u001b[0mappend\u001b[0m\u001b[0;34m(\u001b[0m\u001b[0mget_message_value\u001b[0m\u001b[0;34m(\u001b[0m\u001b[0mm\u001b[0m\u001b[0;34m)\u001b[0m \u001b[0;34m-\u001b[0m \u001b[0mval\u001b[0m\u001b[0;34m)\u001b[0m\u001b[0;34m\u001b[0m\u001b[0;34m\u001b[0m\u001b[0m\n\u001b[0m\u001b[1;32m     18\u001b[0m         \u001b[0mval\u001b[0m \u001b[0;34m=\u001b[0m \u001b[0mget_message_value\u001b[0m\u001b[0;34m(\u001b[0m\u001b[0mm\u001b[0m\u001b[0;34m)\u001b[0m\u001b[0;34m\u001b[0m\u001b[0;34m\u001b[0m\u001b[0m\n\u001b[1;32m     19\u001b[0m     \u001b[0;32mreturn\u001b[0m \u001b[0mout\u001b[0m\u001b[0;34m\u001b[0m\u001b[0;34m\u001b[0m\u001b[0m\n",
      "\u001b[0;31mTypeError\u001b[0m: unsupported operand type(s) for -: 'NoneType' and 'float'"
     ]
    }
   ],
   "source": [
    "import glob\n",
    "import mido\n",
    "\n",
    "def get_message_value(msg):\n",
    "    if msg.type == \"note_on\" and msg.velocity != 0:\n",
    "        return -msg.note / NOTE_MAX\n",
    "\n",
    "def track_to_notes(track):\n",
    "    notes = [m for m in track if m.type.startswith(\"note_\")]\n",
    "    if len(notes) == 0:\n",
    "        return []\n",
    "    \n",
    "    val = get_message_value(notes[0])\n",
    "    out = []\n",
    "    \n",
    "    for m in notes:\n",
    "        out.append(get_message_value(m) - val)\n",
    "        val = get_message_value(m)\n",
    "    return out\n",
    "\n",
    "def get_author_tracks(author):\n",
    "    tracks = []\n",
    "    for dr in glob.glob(\"dataset/\" + author + \"/**\"):\n",
    "        mid = mido.MidiFile(dr)\n",
    "        tracks.extend(mid.tracks)\n",
    "    return tracks\n",
    "\n",
    "def get_author_note_list(author, min_note_count=600):\n",
    "    tracks = get_author_tracks(author)\n",
    "    note_list = [track_to_notes(t) for t in tracks]\n",
    "    return [n for n in note_list if len(n) >= min_note_count]\n",
    "\n",
    "def get_author_min_note_list(note_lists):\n",
    "    lens = [len(t) for t in note_lists]\n",
    "    return min(lens)\n",
    "\n",
    "def divide_note_list_into_inputs(note_list, group_size=600):\n",
    "    chunks = []\n",
    "    chunk_size = len(note_list) // 600\n",
    "    for i in range(0, chunk_size):\n",
    "        chunks.append(note_list[group_size * i: group_size * (i + 1)])\n",
    "    return chunks\n",
    "\n",
    "def get_tracks_chunks(tracks):\n",
    "    chunks = []\n",
    "    for t in tracks:\n",
    "        chunks.extend(divide_note_list_into_inputs(t))\n",
    "    \n",
    "    return chunks\n",
    "\n",
    "albeniz_tracks = get_author_note_list(\"Albéniz Isaac\")\n",
    "agnew_tracks = get_author_note_list(\"Agnew Roy\")\n",
    "behr_tracks = get_author_note_list(\"Behr Franz\")\n",
    "liszt_tracks = get_author_note_list(\"Liszt Franz\")\n",
    "zierau_tracks = get_author_note_list(\"Zierau Fritz\")\n",
    "frontini_tracks = get_author_note_list(\"Frontini Francesco Paolo\")\n",
    "\n",
    "albeniz_chunks = get_tracks_chunks(albeniz_tracks)\n",
    "agnew_chunks = get_tracks_chunks(agnew_tracks)\n",
    "behr_chunks = get_tracks_chunks(behr_tracks)\n",
    "liszt_chunks = get_tracks_chunks(liszt_tracks)\n",
    "zierau_chunks = get_tracks_chunks(zierau_tracks)\n",
    "frontini_chunks = get_tracks_chunks(frontini_tracks)\n"
   ]
  },
  {
   "cell_type": "markdown",
   "metadata": {},
   "source": [
    "# Cross Validation"
   ]
  },
  {
   "cell_type": "code",
   "execution_count": 72,
   "metadata": {},
   "outputs": [
    {
     "name": "stdout",
     "output_type": "stream",
     "text": [
      "234\n",
      "10\n",
      "29\n",
      "221\n",
      "17\n",
      "24\n"
     ]
    }
   ],
   "source": [
    "import math\n",
    "\n",
    "# K-Fold cross validation where K = 10\n",
    "def get_folds(all_authors, folds = 10):\n",
    "    for author in all_authors:\n",
    "        print(len(author))\n",
    "        partition = int(math.ceil(1.0 * len(author) * (1.0 / folds)))\n",
    "        # print(partition)\n",
    "        \n",
    "    return []\n",
    "    \n",
    "\n",
    "\n",
    "folds = get_folds([albeniz_chunks, agnew_chunks, behr_chunks, liszt_chunks, zierau_chunks, frontini_chunks])"
   ]
  },
  {
   "cell_type": "markdown",
   "metadata": {},
   "source": [
    "# Define Dataset"
   ]
  },
  {
   "cell_type": "code",
   "execution_count": 33,
   "metadata": {},
   "outputs": [
    {
     "ename": "NameError",
     "evalue": "name 'albeniz_chunks' is not defined",
     "output_type": "error",
     "traceback": [
      "\u001b[0;31m---------------------------------------------------------------------------\u001b[0m",
      "\u001b[0;31mNameError\u001b[0m                                 Traceback (most recent call last)",
      "\u001b[0;32m<ipython-input-33-6003e1f86504>\u001b[0m in \u001b[0;36m<module>\u001b[0;34m\u001b[0m\n\u001b[1;32m     33\u001b[0m     \u001b[0;32mreturn\u001b[0m \u001b[0mnp\u001b[0m\u001b[0;34m.\u001b[0m\u001b[0marray\u001b[0m\u001b[0;34m(\u001b[0m\u001b[0mdata\u001b[0m\u001b[0;34m)\u001b[0m\u001b[0;34m\u001b[0m\u001b[0;34m\u001b[0m\u001b[0m\n\u001b[1;32m     34\u001b[0m \u001b[0;34m\u001b[0m\u001b[0m\n\u001b[0;32m---> 35\u001b[0;31m \u001b[0minput_dim\u001b[0m \u001b[0;34m=\u001b[0m \u001b[0mlen\u001b[0m\u001b[0;34m(\u001b[0m\u001b[0malbeniz_chunks\u001b[0m\u001b[0;34m[\u001b[0m\u001b[0;36m0\u001b[0m\u001b[0;34m]\u001b[0m\u001b[0;34m)\u001b[0m\u001b[0;34m\u001b[0m\u001b[0;34m\u001b[0m\u001b[0m\n\u001b[0m\u001b[1;32m     36\u001b[0m \u001b[0mprint\u001b[0m\u001b[0;34m(\u001b[0m\u001b[0minput_dim\u001b[0m\u001b[0;34m)\u001b[0m\u001b[0;34m\u001b[0m\u001b[0;34m\u001b[0m\u001b[0m\n\u001b[1;32m     37\u001b[0m \u001b[0;32mdef\u001b[0m \u001b[0mtest_data_from_datasets\u001b[0m\u001b[0;34m(\u001b[0m\u001b[0mdatasets\u001b[0m\u001b[0;34m)\u001b[0m\u001b[0;34m:\u001b[0m\u001b[0;34m\u001b[0m\u001b[0;34m\u001b[0m\u001b[0m\n",
      "\u001b[0;31mNameError\u001b[0m: name 'albeniz_chunks' is not defined"
     ]
    }
   ],
   "source": [
    "def halve_array(arr):\n",
    "    div = len(arr) // 2\n",
    "    return arr[:div], arr[div:]\n",
    "\n",
    "def create_labels(label, leng):\n",
    "    labels = []\n",
    "    for _ in range(leng):\n",
    "        labels.append(label)\n",
    "    return labels\n",
    "\n",
    "def generate_data_from_chunks(chunks, label):\n",
    "    train, test = halve_array(chunks)\n",
    "    train_labels = create_labels(label, len(train))\n",
    "    test_labels = create_labels(label, len(test))\n",
    "\n",
    "    return {\n",
    "        \"train_data\": train,\n",
    "        \"test_data\": test,\n",
    "        \"train_labels\": train_labels,\n",
    "        \"test_labels\": test_labels\n",
    "    }\n",
    "\n",
    "def train_data_from_datasets(datasets):\n",
    "    data = []\n",
    "    for d in datasets:\n",
    "        data += d[\"train_data\"] + d[\"test_data\"]\n",
    "    return np.array(data)\n",
    "\n",
    "def train_labels_from_datasets(datasets):\n",
    "    data = []\n",
    "    for d in datasets:\n",
    "        data += d[\"train_labels\"] + d[\"test_labels\"]\n",
    "    return np.array(data)\n",
    "\n",
    "input_dim = len(albeniz_chunks[0])\n",
    "print(input_dim)\n",
    "def test_data_from_datasets(datasets):\n",
    "    data = []\n",
    "    for d in datasets:\n",
    "        data += d[\"test_data\"]\n",
    "    return np.array(data)\n",
    "\n",
    "def test_labels_from_datasets(datasets):\n",
    "    data = []\n",
    "    for d in datasets:\n",
    "        data += d[\"test_labels\"]\n",
    "    return np.array(data)\n",
    "\n",
    "input_dim = len(albeniz_chunks[0])\n",
    "\n",
    "albeniz_dataset = generate_data_from_chunks(albeniz_chunks, [1.0, 0.0, 0.0, 0.0, 0.0, 0.0])\n",
    "behr_dataset = generate_data_from_chunks(behr_chunks, [0.0, 1.0, 0.0, 0.0, 0.0, 0.0])\n",
    "frontini_dataset = generate_data_from_chunks(frontini_chunks, [0.0, 0.0, 1.0, 0.0, 0.0, 0.0])\n",
    "liszt_dataset = generate_data_from_chunks(liszt_chunks, [0.0, 0.0, 0.0, 1.0, 0.0, 0.0])\n",
    "zierau_dataset = generate_data_from_chunks(zierau_chunks, [0.0, 0.0, 0.0, 0.0, 1.0, 0.0])\n",
    "agnew_dataset = generate_data_from_chunks(agnew_chunks, [0.0, 0.0, 0.0, 0.0, 0.0, 1.0])\n",
    "datasets = [albeniz_dataset, behr_dataset, frontini_dataset, liszt_dataset, zierau_dataset, agnew_dataset]\n",
    "\n",
    "train_data = train_data_from_datasets(datasets)\n",
    "train_labels = train_labels_from_datasets(datasets)\n",
    "\n",
    "final_train, final_labels = shuffle(train_data, train_labels)"
   ]
  },
  {
   "cell_type": "markdown",
   "metadata": {},
   "source": [
    "# Run Model"
   ]
  },
  {
   "cell_type": "code",
   "execution_count": 54,
   "metadata": {},
   "outputs": [
    {
     "name": "stdout",
     "output_type": "stream",
     "text": [
      "Model: \"sequential_12\"\n",
      "_________________________________________________________________\n",
      "Layer (type)                 Output Shape              Param #   \n",
      "=================================================================\n",
      "reshape_12 (Reshape)         (None, 600, 1)            0         \n",
      "_________________________________________________________________\n",
      "conv1d_24 (Conv1D)           (None, 551, 30)           1530      \n",
      "_________________________________________________________________\n",
      "conv1d_25 (Conv1D)           (None, 549, 50)           4550      \n",
      "_________________________________________________________________\n",
      "global_average_pooling1d_12  (None, 50)                0         \n",
      "_________________________________________________________________\n",
      "dropout_12 (Dropout)         (None, 50)                0         \n",
      "_________________________________________________________________\n",
      "dense_12 (Dense)             (None, 6)                 306       \n",
      "=================================================================\n",
      "Total params: 6,386\n",
      "Trainable params: 6,386\n",
      "Non-trainable params: 0\n",
      "_________________________________________________________________\n",
      "SensitivitySpecificityCallback::validation_data: None\n"
     ]
    },
    {
     "ename": "TypeError",
     "evalue": "'NoneType' object is not subscriptable",
     "output_type": "error",
     "traceback": [
      "\u001b[0;31m---------------------------------------------------------------------------\u001b[0m",
      "\u001b[0;31mTypeError\u001b[0m                                 Traceback (most recent call last)",
      "\u001b[0;32m<ipython-input-54-240eeec70bc6>\u001b[0m in \u001b[0;36m<module>\u001b[0;34m\u001b[0m\n\u001b[1;32m     38\u001b[0m )\n\u001b[1;32m     39\u001b[0m \u001b[0;34m\u001b[0m\u001b[0m\n\u001b[0;32m---> 40\u001b[0;31m history = model.fit(\n\u001b[0m\u001b[1;32m     41\u001b[0m     \u001b[0mfinal_train\u001b[0m\u001b[0;34m,\u001b[0m\u001b[0;34m\u001b[0m\u001b[0;34m\u001b[0m\u001b[0m\n\u001b[1;32m     42\u001b[0m     \u001b[0mfinal_labels\u001b[0m\u001b[0;34m,\u001b[0m\u001b[0;34m\u001b[0m\u001b[0;34m\u001b[0m\u001b[0m\n",
      "\u001b[0;32m~/.local/lib/python3.8/site-packages/wandb/integration/keras/keras.py\u001b[0m in \u001b[0;36mnew_v2\u001b[0;34m(*args, **kwargs)\u001b[0m\n\u001b[1;32m    122\u001b[0m             \u001b[0;32mfor\u001b[0m \u001b[0mcbk\u001b[0m \u001b[0;32min\u001b[0m \u001b[0mcbks\u001b[0m\u001b[0;34m:\u001b[0m\u001b[0;34m\u001b[0m\u001b[0;34m\u001b[0m\u001b[0m\n\u001b[1;32m    123\u001b[0m                 \u001b[0mset_wandb_attrs\u001b[0m\u001b[0;34m(\u001b[0m\u001b[0mcbk\u001b[0m\u001b[0;34m,\u001b[0m \u001b[0mval_data\u001b[0m\u001b[0;34m)\u001b[0m\u001b[0;34m\u001b[0m\u001b[0;34m\u001b[0m\u001b[0m\n\u001b[0;32m--> 124\u001b[0;31m         \u001b[0;32mreturn\u001b[0m \u001b[0mold_v2\u001b[0m\u001b[0;34m(\u001b[0m\u001b[0;34m*\u001b[0m\u001b[0margs\u001b[0m\u001b[0;34m,\u001b[0m \u001b[0;34m**\u001b[0m\u001b[0mkwargs\u001b[0m\u001b[0;34m)\u001b[0m\u001b[0;34m\u001b[0m\u001b[0;34m\u001b[0m\u001b[0m\n\u001b[0m\u001b[1;32m    125\u001b[0m \u001b[0;34m\u001b[0m\u001b[0m\n\u001b[1;32m    126\u001b[0m     \u001b[0mtraining_arrays\u001b[0m\u001b[0;34m.\u001b[0m\u001b[0morig_fit_loop\u001b[0m \u001b[0;34m=\u001b[0m \u001b[0mold_arrays\u001b[0m\u001b[0;34m\u001b[0m\u001b[0;34m\u001b[0m\u001b[0m\n",
      "\u001b[0;32m~/.local/lib/python3.8/site-packages/tensorflow/python/keras/engine/training.py\u001b[0m in \u001b[0;36mfit\u001b[0;34m(self, x, y, batch_size, epochs, verbose, callbacks, validation_split, validation_data, shuffle, class_weight, sample_weight, initial_epoch, steps_per_epoch, validation_steps, validation_batch_size, validation_freq, max_queue_size, workers, use_multiprocessing)\u001b[0m\n\u001b[1;32m   1143\u001b[0m           \u001b[0mepoch_logs\u001b[0m\u001b[0;34m.\u001b[0m\u001b[0mupdate\u001b[0m\u001b[0;34m(\u001b[0m\u001b[0mval_logs\u001b[0m\u001b[0;34m)\u001b[0m\u001b[0;34m\u001b[0m\u001b[0;34m\u001b[0m\u001b[0m\n\u001b[1;32m   1144\u001b[0m \u001b[0;34m\u001b[0m\u001b[0m\n\u001b[0;32m-> 1145\u001b[0;31m         \u001b[0mcallbacks\u001b[0m\u001b[0;34m.\u001b[0m\u001b[0mon_epoch_end\u001b[0m\u001b[0;34m(\u001b[0m\u001b[0mepoch\u001b[0m\u001b[0;34m,\u001b[0m \u001b[0mepoch_logs\u001b[0m\u001b[0;34m)\u001b[0m\u001b[0;34m\u001b[0m\u001b[0;34m\u001b[0m\u001b[0m\n\u001b[0m\u001b[1;32m   1146\u001b[0m         \u001b[0mtraining_logs\u001b[0m \u001b[0;34m=\u001b[0m \u001b[0mepoch_logs\u001b[0m\u001b[0;34m\u001b[0m\u001b[0;34m\u001b[0m\u001b[0m\n\u001b[1;32m   1147\u001b[0m         \u001b[0;32mif\u001b[0m \u001b[0mself\u001b[0m\u001b[0;34m.\u001b[0m\u001b[0mstop_training\u001b[0m\u001b[0;34m:\u001b[0m\u001b[0;34m\u001b[0m\u001b[0;34m\u001b[0m\u001b[0m\n",
      "\u001b[0;32m~/.local/lib/python3.8/site-packages/tensorflow/python/keras/callbacks.py\u001b[0m in \u001b[0;36mon_epoch_end\u001b[0;34m(self, epoch, logs)\u001b[0m\n\u001b[1;32m    430\u001b[0m         \u001b[0;32mif\u001b[0m \u001b[0mnumpy_logs\u001b[0m \u001b[0;32mis\u001b[0m \u001b[0;32mNone\u001b[0m\u001b[0;34m:\u001b[0m  \u001b[0;31m# Only convert once.\u001b[0m\u001b[0;34m\u001b[0m\u001b[0;34m\u001b[0m\u001b[0m\n\u001b[1;32m    431\u001b[0m           \u001b[0mnumpy_logs\u001b[0m \u001b[0;34m=\u001b[0m \u001b[0mtf_utils\u001b[0m\u001b[0;34m.\u001b[0m\u001b[0mto_numpy_or_python_type\u001b[0m\u001b[0;34m(\u001b[0m\u001b[0mlogs\u001b[0m\u001b[0;34m)\u001b[0m\u001b[0;34m\u001b[0m\u001b[0;34m\u001b[0m\u001b[0m\n\u001b[0;32m--> 432\u001b[0;31m         \u001b[0mcallback\u001b[0m\u001b[0;34m.\u001b[0m\u001b[0mon_epoch_end\u001b[0m\u001b[0;34m(\u001b[0m\u001b[0mepoch\u001b[0m\u001b[0;34m,\u001b[0m \u001b[0mnumpy_logs\u001b[0m\u001b[0;34m)\u001b[0m\u001b[0;34m\u001b[0m\u001b[0;34m\u001b[0m\u001b[0m\n\u001b[0m\u001b[1;32m    433\u001b[0m \u001b[0;34m\u001b[0m\u001b[0m\n\u001b[1;32m    434\u001b[0m   \u001b[0;32mdef\u001b[0m \u001b[0mon_train_batch_begin\u001b[0m\u001b[0;34m(\u001b[0m\u001b[0mself\u001b[0m\u001b[0;34m,\u001b[0m \u001b[0mbatch\u001b[0m\u001b[0;34m,\u001b[0m \u001b[0mlogs\u001b[0m\u001b[0;34m=\u001b[0m\u001b[0;32mNone\u001b[0m\u001b[0;34m)\u001b[0m\u001b[0;34m:\u001b[0m\u001b[0;34m\u001b[0m\u001b[0;34m\u001b[0m\u001b[0m\n",
      "\u001b[0;32m<ipython-input-54-240eeec70bc6>\u001b[0m in \u001b[0;36mon_epoch_end\u001b[0;34m(self, epoch, logs)\u001b[0m\n\u001b[1;32m     13\u001b[0m         \u001b[0;32mif\u001b[0m \u001b[0mepoch\u001b[0m\u001b[0;34m:\u001b[0m\u001b[0;34m\u001b[0m\u001b[0;34m\u001b[0m\u001b[0m\n\u001b[1;32m     14\u001b[0m             \u001b[0mprint\u001b[0m\u001b[0;34m(\u001b[0m\u001b[0;34m'SensitivitySpecificityCallback::validation_data:'\u001b[0m\u001b[0;34m,\u001b[0m\u001b[0mself\u001b[0m\u001b[0;34m.\u001b[0m\u001b[0mvalidation_data\u001b[0m\u001b[0;34m)\u001b[0m\u001b[0;34m\u001b[0m\u001b[0;34m\u001b[0m\u001b[0m\n\u001b[0;32m---> 15\u001b[0;31m             \u001b[0mx_test\u001b[0m \u001b[0;34m=\u001b[0m \u001b[0mself\u001b[0m\u001b[0;34m.\u001b[0m\u001b[0mvalidation_data\u001b[0m\u001b[0;34m[\u001b[0m\u001b[0;36m0\u001b[0m\u001b[0;34m]\u001b[0m\u001b[0;34m\u001b[0m\u001b[0;34m\u001b[0m\u001b[0m\n\u001b[0m\u001b[1;32m     16\u001b[0m             \u001b[0my_test\u001b[0m \u001b[0;34m=\u001b[0m \u001b[0mself\u001b[0m\u001b[0;34m.\u001b[0m\u001b[0mvalidation_data\u001b[0m\u001b[0;34m[\u001b[0m\u001b[0;36m1\u001b[0m\u001b[0;34m]\u001b[0m\u001b[0;34m\u001b[0m\u001b[0;34m\u001b[0m\u001b[0m\n\u001b[1;32m     17\u001b[0m             \u001b[0mpredictions\u001b[0m \u001b[0;34m=\u001b[0m \u001b[0mself\u001b[0m\u001b[0;34m.\u001b[0m\u001b[0mmodel\u001b[0m\u001b[0;34m.\u001b[0m\u001b[0mpredict\u001b[0m\u001b[0;34m(\u001b[0m\u001b[0mx_test\u001b[0m\u001b[0;34m)\u001b[0m\u001b[0;34m\u001b[0m\u001b[0;34m\u001b[0m\u001b[0m\n",
      "\u001b[0;31mTypeError\u001b[0m: 'NoneType' object is not subscriptable"
     ]
    }
   ],
   "source": [
    "\n",
    "\n",
    "history = model.fit(\n",
    "    final_train,\n",
    "    final_labels,\n",
    "    validation_split=0.3,\n",
    "    epochs=40,\n",
    "    verbose=0\n",
    ")"
   ]
  },
  {
   "cell_type": "code",
   "execution_count": 51,
   "metadata": {},
   "outputs": [
    {
     "data": {
      "image/png": "[encoded data removed]",
      "text/plain": [
       "<Figure size 432x288 with 1 Axes>"
      ]
     },
     "metadata": {
      "needs_background": "light"
     },
     "output_type": "display_data"
    }
   ],
   "source": [
    "from matplotlib import pyplot as plt\n",
    "\n",
    "val_loss = history.history[\"val_loss\"]\n",
    "val_acc = history.history[\"val_accuracy\"]\n",
    "loss = history.history[\"loss\"]\n",
    "acc = history.history[\"accuracy\"]\n",
    "\n",
    "ax, fig = plt.plot(loss, \"b\", val_loss, \"r\")"
   ]
  },
  {
   "cell_type": "code",
   "execution_count": 45,
   "metadata": {},
   "outputs": [
    {
     "data": {
      "image/png": "[encoded data removed]",
      "text/plain": [
       "<Figure size 432x288 with 1 Axes>"
      ]
     },
     "metadata": {
      "needs_background": "light"
     },
     "output_type": "display_data"
    }
   ],
   "source": [
    "ax2, fig2 = plt.plot(acc, \"b\", val_acc, \"g\")"
   ]
  },
  {
   "cell_type": "code",
   "execution_count": 49,
   "metadata": {},
   "outputs": [
    {
     "name": "stdout",
     "output_type": "stream",
     "text": [
      "None\n"
     ]
    }
   ],
   "source": [
    "print(history.validation_data)"
   ]
  },
  {
   "cell_type": "code",
   "execution_count": null,
   "metadata": {},
   "outputs": [],
   "source": []
  },
  {
   "cell_type": "code",
   "execution_count": null,
   "metadata": {},
   "outputs": [],
   "source": []
  }
 ],
 "metadata": {
  "kernelspec": {
   "display_name": "Python 3",
   "language": "python",
   "name": "python3"
  },
  "language_info": {
   "codemirror_mode": {
    "name": "ipython",
    "version": 3
   },
   "file_extension": ".py",
   "mimetype": "text/x-python",
   "name": "python",
   "nbconvert_exporter": "python",
   "pygments_lexer": "ipython3",
   "version": "3.8.5"
  }
 },
 "nbformat": 4,
 "nbformat_minor": 4
}
